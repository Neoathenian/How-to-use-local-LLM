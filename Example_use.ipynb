{
 "cells": [
  {
   "cell_type": "code",
   "execution_count": 1,
   "metadata": {},
   "outputs": [],
   "source": [
    "from Basic_LLM_functions import LLM_connection"
   ]
  },
  {
   "cell_type": "code",
   "execution_count": 2,
   "metadata": {},
   "outputs": [
    {
     "name": "stderr",
     "output_type": "stream",
     "text": [
      "c:\\Users\\Rafa\\miniconda3\\envs\\llama3_1_env\\Lib\\site-packages\\tqdm\\auto.py:21: TqdmWarning: IProgress not found. Please update jupyter and ipywidgets. See https://ipywidgets.readthedocs.io/en/stable/user_install.html\n",
      "  from .autonotebook import tqdm as notebook_tqdm\n",
      "Loading checkpoint shards: 100%|██████████| 4/4 [00:06<00:00,  1.67s/it]\n"
     ]
    }
   ],
   "source": [
    "# Option 1: load from folder (locally  using a gpu)\n",
    "LLM_connection.load_model_from_path(\"Meta-Llama-3.1-8B-Instruct\")"
   ]
  },
  {
   "cell_type": "code",
   "execution_count": 3,
   "metadata": {},
   "outputs": [
    {
     "name": "stderr",
     "output_type": "stream",
     "text": [
      "c:\\Users\\Rafa\\miniconda3\\envs\\llama3_1_env\\Lib\\site-packages\\transformers\\models\\llama\\modeling_llama.py:655: UserWarning: 1Torch was not compiled with flash attention. (Triggered internally at C:\\actions-runner\\_work\\pytorch\\pytorch\\builder\\windows\\pytorch\\aten\\src\\ATen\\native\\transformers\\cuda\\sdp_utils.cpp:555.)\n",
      "  attn_output = torch.nn.functional.scaled_dot_product_attention(\n",
      "Starting from v4.46, the `logits` model output will have the same type as the model (except at train time, where it will always be FP32)\n"
     ]
    },
    {
     "data": {
      "text/plain": [
       "'The capital of France is Paris.'"
      ]
     },
     "execution_count": 3,
     "metadata": {},
     "output_type": "execute_result"
    }
   ],
   "source": [
    "LLM_connection.Get_answer(\"What is the capital of France?\")"
   ]
  },
  {
   "cell_type": "code",
   "execution_count": 4,
   "metadata": {},
   "outputs": [
    {
     "data": {
      "text/plain": [
       "['The capital of France is Paris.',\n",
       " 'The capital of Germany is Berlin.',\n",
       " 'The capital of Spain is Madrid.',\n",
       " 'The capital of Italy is Rome.',\n",
       " 'The capital of Portugal is Lisbon.',\n",
       " 'The capital of the United Kingdom is London.',\n",
       " 'The capital of the United States is Washington, D.C.',\n",
       " 'The capital of Canada is Ottawa.',\n",
       " 'The capital of Mexico is Mexico City.',\n",
       " 'The capital of Brazil is Brasília.',\n",
       " 'The capital of Argentina is Buenos Aires.',\n",
       " 'The capital of Australia is Canberra.',\n",
       " 'The capital of Japan is Tokyo.',\n",
       " 'The capital of China is Beijing.',\n",
       " 'The capital of India is New Delhi.',\n",
       " 'The capital of Russia is Moscow.',\n",
       " 'The capital of South Africa is Pretoria (administrative capital), Cape Town (legislative capital), and Bloemfontein (judicial capital).',\n",
       " 'The capital of Nigeria is Abuja.',\n",
       " 'The capital of Egypt is Cairo.']"
      ]
     },
     "execution_count": 4,
     "metadata": {},
     "output_type": "execute_result"
    }
   ],
   "source": [
    "# For windows we´ve got batch questions\n",
    "LLM_connection.Get_answer_batch([\"What is the capital of France?\", \"What is the capital of Germany?\",\n",
    "                                 \"What is the capital of Spain?\", \"What is the capital of Italy?\",\"What is the capital of Portugal?\",\n",
    "                                 \"What is the capital of the United Kingdom?\", \"What is the capital of the United States?\",\n",
    "                                 \"What is the capital of Canada?\", \"What is the capital of Mexico?\", \"What is the capital of Brazil?\",\n",
    "                                 \"What is the capital of Argentina?\", \"What is the capital of Australia?\", \"What is the capital of Japan?\",\n",
    "                                 \"What is the capital of China?\", \"What is the capital of India?\", \"What is the capital of Russia?\",\n",
    "                                 \"What is the capital of South Africa?\", \"What is the capital of Nigeria?\", \"What is the capital of Egypt?\"])"
   ]
  },
  {
   "cell_type": "code",
   "execution_count": 5,
   "metadata": {},
   "outputs": [
    {
     "data": {
      "text/plain": [
       "'Fair query, good sir'"
      ]
     },
     "execution_count": 5,
     "metadata": {},
     "output_type": "execute_result"
    }
   ],
   "source": [
    "LLM_connection.Get_answer(\"What is the 2+2? Answer like shakespeare would.\",max_new_tokens=5)#limiting the number of tokens makes him unable to answer"
   ]
  },
  {
   "cell_type": "code",
   "execution_count": 6,
   "metadata": {},
   "outputs": [],
   "source": [
    "# Option 2: load from folder (locally  using a gpu)\n",
    "LLM_connection.unload_model()\n",
    "LLM_connection.load_api()"
   ]
  },
  {
   "cell_type": "code",
   "execution_count": 8,
   "metadata": {},
   "outputs": [
    {
     "data": {
      "text/plain": [
       "'The capital'"
      ]
     },
     "execution_count": 8,
     "metadata": {},
     "output_type": "execute_result"
    }
   ],
   "source": [
    "LLM_connection.Get_answer(\"What is the capital of Spain?\",max_new_tokens=2)"
   ]
  },
  {
   "cell_type": "code",
   "execution_count": null,
   "metadata": {},
   "outputs": [],
   "source": []
  },
  {
   "cell_type": "code",
   "execution_count": null,
   "metadata": {},
   "outputs": [],
   "source": []
  },
  {
   "cell_type": "code",
   "execution_count": null,
   "metadata": {},
   "outputs": [],
   "source": []
  },
  {
   "cell_type": "code",
   "execution_count": null,
   "metadata": {},
   "outputs": [],
   "source": []
  }
 ],
 "metadata": {
  "kernelspec": {
   "display_name": "llama3_1_env",
   "language": "python",
   "name": "python3"
  },
  "language_info": {
   "codemirror_mode": {
    "name": "ipython",
    "version": 3
   },
   "file_extension": ".py",
   "mimetype": "text/x-python",
   "name": "python",
   "nbconvert_exporter": "python",
   "pygments_lexer": "ipython3",
   "version": "3.12.5"
  }
 },
 "nbformat": 4,
 "nbformat_minor": 2
}
