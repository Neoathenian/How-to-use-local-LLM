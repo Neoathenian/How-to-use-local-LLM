{
 "cells": [
  {
   "cell_type": "markdown",
   "metadata": {},
   "source": [
    "# We can answer questions with the Llama LLM"
   ]
  },
  {
   "cell_type": "code",
   "execution_count": 1,
   "metadata": {},
   "outputs": [],
   "source": [
    "from Basic_LLM_functions import LLM_connection"
   ]
  },
  {
   "cell_type": "code",
   "execution_count": 3,
   "metadata": {},
   "outputs": [
    {
     "name": "stderr",
     "output_type": "stream",
     "text": [
      "llama_new_context_with_model: n_ctx_per_seq (512) < n_ctx_train (131072) -- the full capacity of the model will not be utilized\n"
     ]
    }
   ],
   "source": [
    "# Option 1: load from folder (locally  using a gpu)\n",
    "# LLM_connection.load_llm_model_from_path(\"LLMs/Meta-Llama-3.1-8B-Instruct\") #This is a heavier, more intelligent model\n",
    "LLM_connection.load_llm_model_from_path(\"LLMs/models--MaziyarPanahi--Llama-3.2-1B-Instruct-GGUF/Llama-3.2-1B-Instruct.fp16.gguf\")"
   ]
  },
  {
   "cell_type": "code",
   "execution_count": 5,
   "metadata": {},
   "outputs": [
    {
     "data": {
      "text/plain": [
       "'The capital of France is Paris.'"
      ]
     },
     "execution_count": 5,
     "metadata": {},
     "output_type": "execute_result"
    }
   ],
   "source": [
    "LLM_connection.get_answer(\"What is the capital of France?\")"
   ]
  },
  {
   "cell_type": "code",
   "execution_count": 6,
   "metadata": {},
   "outputs": [
    {
     "data": {
      "text/plain": [
       "'Fair query, thou dost'"
      ]
     },
     "execution_count": 6,
     "metadata": {},
     "output_type": "execute_result"
    }
   ],
   "source": [
    "LLM_connection.get_answer(\"What is the 2+2? Answer like shakespeare would.\",max_new_tokens=5)#limiting the number of tokens makes him unable to answer"
   ]
  },
  {
   "cell_type": "code",
   "execution_count": 2,
   "metadata": {},
   "outputs": [],
   "source": [
    "# Option 2: load from folder (locally  using a gpu)\n",
    "LLM_connection.unload_llm_model()\n",
    "LLM_connection.load_api(\"LLMs/.env\")"
   ]
  },
  {
   "cell_type": "code",
   "execution_count": 4,
   "metadata": {},
   "outputs": [
    {
     "data": {
      "text/plain": [
       "'The capital'"
      ]
     },
     "execution_count": 4,
     "metadata": {},
     "output_type": "execute_result"
    }
   ],
   "source": [
    "LLM_connection.get_answer(\"What is the capital of Spain?\",max_new_tokens=2)"
   ]
  },
  {
   "cell_type": "markdown",
   "metadata": {},
   "source": [
    "# We can also get embeddings"
   ]
  },
  {
   "cell_type": "code",
   "execution_count": 4,
   "metadata": {},
   "outputs": [
    {
     "data": {
      "text/plain": [
       "[0.05550524964928627,\n",
       " -0.022762469947338104,\n",
       " 0.01484775636345148,\n",
       " 0.031188467517495155,\n",
       " -0.05599608272314072]"
      ]
     },
     "execution_count": 4,
     "metadata": {},
     "output_type": "execute_result"
    }
   ],
   "source": [
    "LLM_connection.embed(\"What is the capital of Spain?\")[:5]"
   ]
  },
  {
   "cell_type": "code",
   "execution_count": 3,
   "metadata": {},
   "outputs": [
    {
     "data": {
      "text/plain": [
       "array([-0.608322  ,  1.0468847 ,  1.5133069 , -0.2441358 , -0.56632274],\n",
       "      dtype=float32)"
      ]
     },
     "execution_count": 3,
     "metadata": {},
     "output_type": "execute_result"
    }
   ],
   "source": [
    "LLM_connection.load_embedding_model_from_path(\"models--dunzhang--stella_en_1.5B_v5\")\n",
    "LLM_connection.embed(\"I am Superman!!!\")[:5]"
   ]
  },
  {
   "cell_type": "code",
   "execution_count": null,
   "metadata": {},
   "outputs": [],
   "source": []
  },
  {
   "cell_type": "code",
   "execution_count": null,
   "metadata": {},
   "outputs": [],
   "source": []
  },
  {
   "cell_type": "code",
   "execution_count": 29,
   "metadata": {},
   "outputs": [
    {
     "name": "stderr",
     "output_type": "stream",
     "text": [
      "llama_new_context_with_model: n_ctx_per_seq (512) < n_ctx_train (131072) -- the full capacity of the model will not be utilized\n"
     ]
    }
   ],
   "source": [
    "from llama_cpp import Llama\n",
    "\n",
    "model = Llama(model_path=\"LLMs/models--MaziyarPanahi--Llama-3.2-1B-Instruct-GGUF/Llama-3.2-1B-Instruct.fp16.gguf\",verbose=False)\n",
    "\n",
    "out=model.create_chat_completion(\n",
    "        messages = [\n",
    "          {\"role\": \"system\", \"content\": \"You are a helpful assistant.\"},\n",
    "          {\n",
    "              \"role\": \"user\",\n",
    "              \"content\": \"What is the capital of France?\"\n",
    "          }\n",
    "      ],\n",
    "        max_tokens=20,stream=True\n",
    "        )"
   ]
  },
  {
   "cell_type": "code",
   "execution_count": 32,
   "metadata": {},
   "outputs": [
    {
     "name": "stdout",
     "output_type": "stream",
     "text": [
      "{'role': 'assistant'}\n",
      "{'content': 'The'}\n",
      "{'content': ' capital'}\n",
      "{'content': ' of'}\n",
      "{'content': ' France'}\n",
      "{'content': ' is'}\n",
      "{'content': ' Paris'}\n",
      "{'content': '.'}\n",
      "{}\n"
     ]
    }
   ],
   "source": [
    "for x in out:\n",
    "    print(x[\"choices\"][0][\"delta\"])#[\"message\"])"
   ]
  }
 ],
 "metadata": {
  "kernelspec": {
   "display_name": "llama3_1_env",
   "language": "python",
   "name": "python3"
  },
  "language_info": {
   "codemirror_mode": {
    "name": "ipython",
    "version": 3
   },
   "file_extension": ".py",
   "mimetype": "text/x-python",
   "name": "python",
   "nbconvert_exporter": "python",
   "pygments_lexer": "ipython3",
   "version": "3.12.5"
  }
 },
 "nbformat": 4,
 "nbformat_minor": 2
}
